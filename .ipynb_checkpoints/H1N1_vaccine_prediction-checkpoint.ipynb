{
 "cells": [
  {
   "cell_type": "markdown",
   "id": "bcec550b",
   "metadata": {},
   "source": [
    "# H1N1 training problem"
   ]
  },
  {
   "cell_type": "markdown",
   "id": "f0197779",
   "metadata": {},
   "source": [
    "## Problem description\n",
    "\n",
    "The problem aims at predicting the probability of an american citizen being vaccinated to H1N1 given some data."
   ]
  },
  {
   "cell_type": "markdown",
   "id": "70e60f83",
   "metadata": {},
   "source": [
    "# Load datasets"
   ]
  },
  {
   "cell_type": "code",
   "execution_count": 1,
   "id": "014d45a7",
   "metadata": {},
   "outputs": [],
   "source": [
    "import numpy as np\n",
    "import pandas as pd"
   ]
  },
  {
   "cell_type": "code",
   "execution_count": 2,
   "id": "d28f2ea2",
   "metadata": {},
   "outputs": [],
   "source": [
    "features_df = pd.read_csv('training_set_features.csv', index_col='respondent_id')\n",
    "labels_df = pd.read_csv('training_set_labels.csv', index_col='respondent_id')"
   ]
  },
  {
   "cell_type": "markdown",
   "id": "fb2dd45c",
   "metadata": {},
   "source": [
    "Let's explore the features:"
   ]
  },
  {
   "cell_type": "code",
   "execution_count": 3,
   "id": "a9bc5d3a",
   "metadata": {},
   "outputs": [
    {
     "name": "stdout",
     "output_type": "stream",
     "text": [
      "features_df.shape (26707, 35)\n"
     ]
    },
    {
     "data": {
      "text/html": [
       "<div>\n",
       "<style scoped>\n",
       "    .dataframe tbody tr th:only-of-type {\n",
       "        vertical-align: middle;\n",
       "    }\n",
       "\n",
       "    .dataframe tbody tr th {\n",
       "        vertical-align: top;\n",
       "    }\n",
       "\n",
       "    .dataframe thead th {\n",
       "        text-align: right;\n",
       "    }\n",
       "</style>\n",
       "<table border=\"1\" class=\"dataframe\">\n",
       "  <thead>\n",
       "    <tr style=\"text-align: right;\">\n",
       "      <th></th>\n",
       "      <th>h1n1_concern</th>\n",
       "      <th>h1n1_knowledge</th>\n",
       "      <th>behavioral_antiviral_meds</th>\n",
       "      <th>behavioral_avoidance</th>\n",
       "      <th>behavioral_face_mask</th>\n",
       "      <th>behavioral_wash_hands</th>\n",
       "      <th>behavioral_large_gatherings</th>\n",
       "      <th>behavioral_outside_home</th>\n",
       "      <th>behavioral_touch_face</th>\n",
       "      <th>doctor_recc_h1n1</th>\n",
       "      <th>...</th>\n",
       "      <th>income_poverty</th>\n",
       "      <th>marital_status</th>\n",
       "      <th>rent_or_own</th>\n",
       "      <th>employment_status</th>\n",
       "      <th>hhs_geo_region</th>\n",
       "      <th>census_msa</th>\n",
       "      <th>household_adults</th>\n",
       "      <th>household_children</th>\n",
       "      <th>employment_industry</th>\n",
       "      <th>employment_occupation</th>\n",
       "    </tr>\n",
       "    <tr>\n",
       "      <th>respondent_id</th>\n",
       "      <th></th>\n",
       "      <th></th>\n",
       "      <th></th>\n",
       "      <th></th>\n",
       "      <th></th>\n",
       "      <th></th>\n",
       "      <th></th>\n",
       "      <th></th>\n",
       "      <th></th>\n",
       "      <th></th>\n",
       "      <th></th>\n",
       "      <th></th>\n",
       "      <th></th>\n",
       "      <th></th>\n",
       "      <th></th>\n",
       "      <th></th>\n",
       "      <th></th>\n",
       "      <th></th>\n",
       "      <th></th>\n",
       "      <th></th>\n",
       "      <th></th>\n",
       "    </tr>\n",
       "  </thead>\n",
       "  <tbody>\n",
       "    <tr>\n",
       "      <th>0</th>\n",
       "      <td>1.0</td>\n",
       "      <td>0.0</td>\n",
       "      <td>0.0</td>\n",
       "      <td>0.0</td>\n",
       "      <td>0.0</td>\n",
       "      <td>0.0</td>\n",
       "      <td>0.0</td>\n",
       "      <td>1.0</td>\n",
       "      <td>1.0</td>\n",
       "      <td>0.0</td>\n",
       "      <td>...</td>\n",
       "      <td>Below Poverty</td>\n",
       "      <td>Not Married</td>\n",
       "      <td>Own</td>\n",
       "      <td>Not in Labor Force</td>\n",
       "      <td>oxchjgsf</td>\n",
       "      <td>Non-MSA</td>\n",
       "      <td>0.0</td>\n",
       "      <td>0.0</td>\n",
       "      <td>NaN</td>\n",
       "      <td>NaN</td>\n",
       "    </tr>\n",
       "    <tr>\n",
       "      <th>1</th>\n",
       "      <td>3.0</td>\n",
       "      <td>2.0</td>\n",
       "      <td>0.0</td>\n",
       "      <td>1.0</td>\n",
       "      <td>0.0</td>\n",
       "      <td>1.0</td>\n",
       "      <td>0.0</td>\n",
       "      <td>1.0</td>\n",
       "      <td>1.0</td>\n",
       "      <td>0.0</td>\n",
       "      <td>...</td>\n",
       "      <td>Below Poverty</td>\n",
       "      <td>Not Married</td>\n",
       "      <td>Rent</td>\n",
       "      <td>Employed</td>\n",
       "      <td>bhuqouqj</td>\n",
       "      <td>MSA, Not Principle  City</td>\n",
       "      <td>0.0</td>\n",
       "      <td>0.0</td>\n",
       "      <td>pxcmvdjn</td>\n",
       "      <td>xgwztkwe</td>\n",
       "    </tr>\n",
       "    <tr>\n",
       "      <th>2</th>\n",
       "      <td>1.0</td>\n",
       "      <td>1.0</td>\n",
       "      <td>0.0</td>\n",
       "      <td>1.0</td>\n",
       "      <td>0.0</td>\n",
       "      <td>0.0</td>\n",
       "      <td>0.0</td>\n",
       "      <td>0.0</td>\n",
       "      <td>0.0</td>\n",
       "      <td>NaN</td>\n",
       "      <td>...</td>\n",
       "      <td>&lt;= $75,000, Above Poverty</td>\n",
       "      <td>Not Married</td>\n",
       "      <td>Own</td>\n",
       "      <td>Employed</td>\n",
       "      <td>qufhixun</td>\n",
       "      <td>MSA, Not Principle  City</td>\n",
       "      <td>2.0</td>\n",
       "      <td>0.0</td>\n",
       "      <td>rucpziij</td>\n",
       "      <td>xtkaffoo</td>\n",
       "    </tr>\n",
       "    <tr>\n",
       "      <th>3</th>\n",
       "      <td>1.0</td>\n",
       "      <td>1.0</td>\n",
       "      <td>0.0</td>\n",
       "      <td>1.0</td>\n",
       "      <td>0.0</td>\n",
       "      <td>1.0</td>\n",
       "      <td>1.0</td>\n",
       "      <td>0.0</td>\n",
       "      <td>0.0</td>\n",
       "      <td>0.0</td>\n",
       "      <td>...</td>\n",
       "      <td>Below Poverty</td>\n",
       "      <td>Not Married</td>\n",
       "      <td>Rent</td>\n",
       "      <td>Not in Labor Force</td>\n",
       "      <td>lrircsnp</td>\n",
       "      <td>MSA, Principle City</td>\n",
       "      <td>0.0</td>\n",
       "      <td>0.0</td>\n",
       "      <td>NaN</td>\n",
       "      <td>NaN</td>\n",
       "    </tr>\n",
       "    <tr>\n",
       "      <th>4</th>\n",
       "      <td>2.0</td>\n",
       "      <td>1.0</td>\n",
       "      <td>0.0</td>\n",
       "      <td>1.0</td>\n",
       "      <td>0.0</td>\n",
       "      <td>1.0</td>\n",
       "      <td>1.0</td>\n",
       "      <td>0.0</td>\n",
       "      <td>1.0</td>\n",
       "      <td>0.0</td>\n",
       "      <td>...</td>\n",
       "      <td>&lt;= $75,000, Above Poverty</td>\n",
       "      <td>Married</td>\n",
       "      <td>Own</td>\n",
       "      <td>Employed</td>\n",
       "      <td>qufhixun</td>\n",
       "      <td>MSA, Not Principle  City</td>\n",
       "      <td>1.0</td>\n",
       "      <td>0.0</td>\n",
       "      <td>wxleyezf</td>\n",
       "      <td>emcorrxb</td>\n",
       "    </tr>\n",
       "  </tbody>\n",
       "</table>\n",
       "<p>5 rows × 35 columns</p>\n",
       "</div>"
      ],
      "text/plain": [
       "               h1n1_concern  h1n1_knowledge  behavioral_antiviral_meds  \\\n",
       "respondent_id                                                            \n",
       "0                       1.0             0.0                        0.0   \n",
       "1                       3.0             2.0                        0.0   \n",
       "2                       1.0             1.0                        0.0   \n",
       "3                       1.0             1.0                        0.0   \n",
       "4                       2.0             1.0                        0.0   \n",
       "\n",
       "               behavioral_avoidance  behavioral_face_mask  \\\n",
       "respondent_id                                               \n",
       "0                               0.0                   0.0   \n",
       "1                               1.0                   0.0   \n",
       "2                               1.0                   0.0   \n",
       "3                               1.0                   0.0   \n",
       "4                               1.0                   0.0   \n",
       "\n",
       "               behavioral_wash_hands  behavioral_large_gatherings  \\\n",
       "respondent_id                                                       \n",
       "0                                0.0                          0.0   \n",
       "1                                1.0                          0.0   \n",
       "2                                0.0                          0.0   \n",
       "3                                1.0                          1.0   \n",
       "4                                1.0                          1.0   \n",
       "\n",
       "               behavioral_outside_home  behavioral_touch_face  \\\n",
       "respondent_id                                                   \n",
       "0                                  1.0                    1.0   \n",
       "1                                  1.0                    1.0   \n",
       "2                                  0.0                    0.0   \n",
       "3                                  0.0                    0.0   \n",
       "4                                  0.0                    1.0   \n",
       "\n",
       "               doctor_recc_h1n1  ...             income_poverty  \\\n",
       "respondent_id                    ...                              \n",
       "0                           0.0  ...              Below Poverty   \n",
       "1                           0.0  ...              Below Poverty   \n",
       "2                           NaN  ...  <= $75,000, Above Poverty   \n",
       "3                           0.0  ...              Below Poverty   \n",
       "4                           0.0  ...  <= $75,000, Above Poverty   \n",
       "\n",
       "               marital_status  rent_or_own   employment_status  \\\n",
       "respondent_id                                                    \n",
       "0                 Not Married          Own  Not in Labor Force   \n",
       "1                 Not Married         Rent            Employed   \n",
       "2                 Not Married          Own            Employed   \n",
       "3                 Not Married         Rent  Not in Labor Force   \n",
       "4                     Married          Own            Employed   \n",
       "\n",
       "               hhs_geo_region                census_msa  household_adults  \\\n",
       "respondent_id                                                               \n",
       "0                    oxchjgsf                   Non-MSA               0.0   \n",
       "1                    bhuqouqj  MSA, Not Principle  City               0.0   \n",
       "2                    qufhixun  MSA, Not Principle  City               2.0   \n",
       "3                    lrircsnp       MSA, Principle City               0.0   \n",
       "4                    qufhixun  MSA, Not Principle  City               1.0   \n",
       "\n",
       "               household_children  employment_industry  employment_occupation  \n",
       "respondent_id                                                                  \n",
       "0                             0.0                  NaN                    NaN  \n",
       "1                             0.0             pxcmvdjn               xgwztkwe  \n",
       "2                             0.0             rucpziij               xtkaffoo  \n",
       "3                             0.0                  NaN                    NaN  \n",
       "4                             0.0             wxleyezf               emcorrxb  \n",
       "\n",
       "[5 rows x 35 columns]"
      ]
     },
     "execution_count": 3,
     "metadata": {},
     "output_type": "execute_result"
    }
   ],
   "source": [
    "print('features_df.shape', features_df.shape)\n",
    "features_df.head()"
   ]
  },
  {
   "cell_type": "markdown",
   "id": "f8024305",
   "metadata": {},
   "source": [
    "Each row corresponds to a survey respondent. The columns provide feature values corresponding to the answers provided by those people. We have 26707 observations and 35 features.\n",
    "\n",
    "Let's explore the data types:"
   ]
  },
  {
   "cell_type": "code",
   "execution_count": 4,
   "id": "ac0110c7",
   "metadata": {},
   "outputs": [
    {
     "data": {
      "text/plain": [
       "h1n1_concern                   float64\n",
       "h1n1_knowledge                 float64\n",
       "behavioral_antiviral_meds      float64\n",
       "behavioral_avoidance           float64\n",
       "behavioral_face_mask           float64\n",
       "behavioral_wash_hands          float64\n",
       "behavioral_large_gatherings    float64\n",
       "behavioral_outside_home        float64\n",
       "behavioral_touch_face          float64\n",
       "doctor_recc_h1n1               float64\n",
       "doctor_recc_seasonal           float64\n",
       "chronic_med_condition          float64\n",
       "child_under_6_months           float64\n",
       "health_worker                  float64\n",
       "health_insurance               float64\n",
       "opinion_h1n1_vacc_effective    float64\n",
       "opinion_h1n1_risk              float64\n",
       "opinion_h1n1_sick_from_vacc    float64\n",
       "opinion_seas_vacc_effective    float64\n",
       "opinion_seas_risk              float64\n",
       "opinion_seas_sick_from_vacc    float64\n",
       "age_group                       object\n",
       "education                       object\n",
       "race                            object\n",
       "sex                             object\n",
       "income_poverty                  object\n",
       "marital_status                  object\n",
       "rent_or_own                     object\n",
       "employment_status               object\n",
       "hhs_geo_region                  object\n",
       "census_msa                      object\n",
       "household_adults               float64\n",
       "household_children             float64\n",
       "employment_industry             object\n",
       "employment_occupation           object\n",
       "dtype: object"
      ]
     },
     "execution_count": 4,
     "metadata": {},
     "output_type": "execute_result"
    }
   ],
   "source": [
    "features_df.dtypes"
   ]
  },
  {
   "cell_type": "markdown",
   "id": "3b089318",
   "metadata": {},
   "source": [
    "Now let's look at the labels:"
   ]
  },
  {
   "cell_type": "code",
   "execution_count": 5,
   "id": "e6fd1330",
   "metadata": {},
   "outputs": [
    {
     "name": "stdout",
     "output_type": "stream",
     "text": [
      "labels_df.shape (26707, 2)\n"
     ]
    },
    {
     "data": {
      "text/html": [
       "<div>\n",
       "<style scoped>\n",
       "    .dataframe tbody tr th:only-of-type {\n",
       "        vertical-align: middle;\n",
       "    }\n",
       "\n",
       "    .dataframe tbody tr th {\n",
       "        vertical-align: top;\n",
       "    }\n",
       "\n",
       "    .dataframe thead th {\n",
       "        text-align: right;\n",
       "    }\n",
       "</style>\n",
       "<table border=\"1\" class=\"dataframe\">\n",
       "  <thead>\n",
       "    <tr style=\"text-align: right;\">\n",
       "      <th></th>\n",
       "      <th>h1n1_vaccine</th>\n",
       "      <th>seasonal_vaccine</th>\n",
       "    </tr>\n",
       "    <tr>\n",
       "      <th>respondent_id</th>\n",
       "      <th></th>\n",
       "      <th></th>\n",
       "    </tr>\n",
       "  </thead>\n",
       "  <tbody>\n",
       "    <tr>\n",
       "      <th>0</th>\n",
       "      <td>0</td>\n",
       "      <td>0</td>\n",
       "    </tr>\n",
       "    <tr>\n",
       "      <th>1</th>\n",
       "      <td>0</td>\n",
       "      <td>1</td>\n",
       "    </tr>\n",
       "    <tr>\n",
       "      <th>2</th>\n",
       "      <td>0</td>\n",
       "      <td>0</td>\n",
       "    </tr>\n",
       "    <tr>\n",
       "      <th>3</th>\n",
       "      <td>0</td>\n",
       "      <td>1</td>\n",
       "    </tr>\n",
       "    <tr>\n",
       "      <th>4</th>\n",
       "      <td>0</td>\n",
       "      <td>0</td>\n",
       "    </tr>\n",
       "  </tbody>\n",
       "</table>\n",
       "</div>"
      ],
      "text/plain": [
       "               h1n1_vaccine  seasonal_vaccine\n",
       "respondent_id                                \n",
       "0                         0                 0\n",
       "1                         0                 1\n",
       "2                         0                 0\n",
       "3                         0                 1\n",
       "4                         0                 0"
      ]
     },
     "execution_count": 5,
     "metadata": {},
     "output_type": "execute_result"
    }
   ],
   "source": [
    "print('labels_df.shape', labels_df.shape)\n",
    "labels_df.head()"
   ]
  },
  {
   "cell_type": "markdown",
   "id": "24d2ed03",
   "metadata": {},
   "source": [
    "We have the same 26707 observations, and two target variables for which we have labels.\n",
    "\n",
    "Let's double check that the rows between features and labels match up. We don't want to have the wrong labels. Nympy's \"assert_array_equal\" will error if the two arrays - the row indices of the two data frames - don't match up."
   ]
  },
  {
   "cell_type": "code",
   "execution_count": 6,
   "id": "13d73881",
   "metadata": {},
   "outputs": [],
   "source": [
    "np.testing.assert_array_equal(features_df.index.values, labels_df.index.values)"
   ]
  },
  {
   "cell_type": "markdown",
   "id": "79e98083",
   "metadata": {},
   "source": [
    "The assertion ran and nothing happened, which means there is no problem. If the two index arrays were not the same, there would be an error."
   ]
  },
  {
   "cell_type": "markdown",
   "id": "46e96dbd",
   "metadata": {},
   "source": [
    "# Exploring the data"
   ]
  },
  {
   "cell_type": "code",
   "execution_count": 7,
   "id": "75a7f80d",
   "metadata": {},
   "outputs": [],
   "source": [
    "import matplotlib.pyplot as plt"
   ]
  },
  {
   "cell_type": "markdown",
   "id": "9de5a991",
   "metadata": {},
   "source": [
    "### Labels\n",
    "\n",
    "Let's start by taking a look at the distribution of the two target variables."
   ]
  },
  {
   "cell_type": "code",
   "execution_count": 8,
   "id": "e80c47d0",
   "metadata": {},
   "outputs": [
    {
     "data": {
      "image/png": "[encoded data removed]",
      "text/plain": [
       "<Figure size 640x480 with 2 Axes>"
      ]
     },
     "metadata": {},
     "output_type": "display_data"
    }
   ],
   "source": [
    "fig, ax = plt.subplots(2, 1, sharex=True)\n",
    "\n",
    "n_obs = labels_df.shape[0]\n",
    "\n",
    "labels_df['h1n1_vaccine'].value_counts().div(n_obs).plot.barh(title='Proportion of H1N1 Vaccine', ax=ax[0])\n",
    "for index, value in enumerate(labels_df['h1n1_vaccine'].value_counts().div(n_obs)):\n",
    "    ax[0].text(value, index, f'{value:.2%}',va='center')\n",
    "\n",
    "labels_df['seasonal_vaccine'].value_counts().div(n_obs).plot.barh(title='Proportion of Seasonal Vaccine', ax=ax[1])\n",
    "for index, value in enumerate(labels_df['seasonal_vaccine'].value_counts().div(n_obs)):\n",
    "    ax[1].text(value, index, f'{value:.2%}',va='center')\n",
    "\n",
    "fig.tight_layout()"
   ]
  },
  {
   "cell_type": "markdown",
   "id": "2f257a62",
   "metadata": {},
   "source": [
    "It looks like roughly half of people received the seasonal flu vaccine, but only about 20% of people received the H1N1 vaccine. In terms of class balance, we say that the seasonal flu vaccine target has balanced classes, but the H1N1 vaccine target has moderately imbalanced classes.\n",
    "\n",
    "Let's take a look whether the two target variables are independent. The pandas crosstab method computes a simple crosstab tabulation of two or more factors."
   ]
  },
  {
   "cell_type": "code",
   "execution_count": 9,
   "id": "583cd2f3",
   "metadata": {},
   "outputs": [
    {
     "data": {
      "text/html": [
       "<div>\n",
       "<style scoped>\n",
       "    .dataframe tbody tr th:only-of-type {\n",
       "        vertical-align: middle;\n",
       "    }\n",
       "\n",
       "    .dataframe tbody tr th {\n",
       "        vertical-align: top;\n",
       "    }\n",
       "\n",
       "    .dataframe thead th {\n",
       "        text-align: right;\n",
       "    }\n",
       "</style>\n",
       "<table border=\"1\" class=\"dataframe\">\n",
       "  <thead>\n",
       "    <tr style=\"text-align: right;\">\n",
       "      <th>seasonal_vaccine</th>\n",
       "      <th>0</th>\n",
       "      <th>1</th>\n",
       "      <th>All</th>\n",
       "    </tr>\n",
       "    <tr>\n",
       "      <th>h1n1_vaccine</th>\n",
       "      <th></th>\n",
       "      <th></th>\n",
       "      <th></th>\n",
       "    </tr>\n",
       "  </thead>\n",
       "  <tbody>\n",
       "    <tr>\n",
       "      <th>0</th>\n",
       "      <td>0.497810</td>\n",
       "      <td>0.289737</td>\n",
       "      <td>0.787546</td>\n",
       "    </tr>\n",
       "    <tr>\n",
       "      <th>1</th>\n",
       "      <td>0.036582</td>\n",
       "      <td>0.175871</td>\n",
       "      <td>0.212454</td>\n",
       "    </tr>\n",
       "    <tr>\n",
       "      <th>All</th>\n",
       "      <td>0.534392</td>\n",
       "      <td>0.465608</td>\n",
       "      <td>1.000000</td>\n",
       "    </tr>\n",
       "  </tbody>\n",
       "</table>\n",
       "</div>"
      ],
      "text/plain": [
       "seasonal_vaccine         0         1       All\n",
       "h1n1_vaccine                                  \n",
       "0                 0.497810  0.289737  0.787546\n",
       "1                 0.036582  0.175871  0.212454\n",
       "All               0.534392  0.465608  1.000000"
      ]
     },
     "execution_count": 9,
     "metadata": {},
     "output_type": "execute_result"
    }
   ],
   "source": [
    "pd.crosstab(labels_df['h1n1_vaccine'], labels_df['seasonal_vaccine'], margins=True, normalize=True)"
   ]
  },
  {
   "cell_type": "markdown",
   "id": "2ad3604f",
   "metadata": {},
   "source": [
    "#### The $\\phi$ coefficient\n",
    "\n",
    "The $\\phi$ coefficient is a measure of association for two binary variables. Let $X$ and $Y$ be two variables. Let $n_{ij}$ be the number of observations where $x=i$ and $y=j$. Let $N_{xj}$ be the sum of occurances where $y=j$ and $N_{iy}$ be the sum of occurances where $x=i$. Let $N$ be the total number of occurances. Then,\n",
    "\\begin{equation}\n",
    "N_{iy} = n_{ii} + n_{ij}\n",
    "\\end{equation}\n",
    "and\n",
    "\\begin{equation}\n",
    "N_{xj} = n_{ij} + n_{jj}\n",
    "\\end{equation}\n",
    "This yields\n",
    "\\begin{equation}\n",
    "    N_{0y} = n_{00} + n_{01}\n",
    "\\end{equation}\n",
    "\\begin{equation}\n",
    "    N_{1y} = n_{10} + n_{11}\n",
    "\\end{equation}\n",
    "\\begin{equation}\n",
    "    N_{x0} = n_{00} + n_{10}\n",
    "\\end{equation}\n",
    "\\begin{equation}\n",
    "    N_{x1} = n_{01} + n_{11}\n",
    "\\end{equation}\n",
    "and\n",
    "\\begin{equation}\n",
    "    N = N_{x0} + N_{x1} = N_{0y} + N_{1y}\n",
    "\\end{equation}\n",
    "\n",
    "These values can be arranged in a table such as:\n",
    "\n",
    "\\begin{array}{l|c|c|c}\n",
    "      & y=1    &  y=0   & Total  \\\\ \\hline\n",
    "x=1   & n_{11} & n_{10} & N_{1y} \\\\ \\hline\n",
    "x=0   & n_{01} & n_{00} & N_{0y} \\\\ \\hline\n",
    "Total & N_{x1} & N_{x0} &\n",
    "\\end{array}\n",
    "\n",
    "The $\\phi$ coefficient that describes the association of $x$ and $y$ is\n",
    "\n",
    "\\begin{equation}\n",
    "    \\phi = \\frac{n_{11}n_{00} - n_{10}n_{01}}{\\sqrt{N_{1y}N_{x1}(N - N_{1y})(N - N_{x1})}}\n",
    "\\end{equation}\n",
    "\n",
    "#### The Pearson correlation coefficient\n",
    "\n",
    "Pearson's correlation coefficient, when applied to a population, is commonly denoted by $\\rho$ and is given by\n",
    "\\begin{equation}\n",
    "    \\rho_{X,Y} = \\frac{\\mathrm{cov}(X,Y)}{\\sigma_X\\sigma_Y}\n",
    "\\end{equation}\n",
    "\n",
    "The covariance of $X$ and $Y$ is given by\n",
    "\\begin{equation}\n",
    "    \\mathrm{cov}(X,Y) = E\\{[X - E(X)][Y - E(Y)]\\}\n",
    "\\end{equation}\n",
    "\n",
    "The $phi$ coefficient is the same as the Pearson coefficient for two binary variables.\n",
    "\n",
    "Let's calculate the Pearson coefficient to explore correlation between H1N1 vaccine and seasonal vaccine."
   ]
  },
  {
   "cell_type": "code",
   "execution_count": 10,
   "id": "51d19699",
   "metadata": {},
   "outputs": [
    {
     "data": {
      "text/plain": [
       "0.37714265306144507"
      ]
     },
     "execution_count": 10,
     "metadata": {},
     "output_type": "execute_result"
    }
   ],
   "source": [
    "labels_df['h1n1_vaccine'].corr(labels_df['seasonal_vaccine'], method='pearson')"
   ]
  },
  {
   "cell_type": "markdown",
   "id": "e17f4faf",
   "metadata": {},
   "source": [
    "This value suggests a moderate positive correlation. This can be seen in the cross-tabulation as well. Most people who got the H1N1 vaccine also got the seasonal flu vaccine."
   ]
  },
  {
   "cell_type": "markdown",
   "id": "830fa528",
   "metadata": {},
   "source": [
    "### Features"
   ]
  },
  {
   "cell_type": "markdown",
   "id": "8e2b6d45",
   "metadata": {},
   "source": [
    "Let's take a look at our features. From the problem description page, most feature variables are categorical. Let's pick a few and see how vaccination rates may differ across the levels of the features variables.\n",
    "\n",
    "Let's begin by joining features and lables in a single dataframe."
   ]
  },
  {
   "cell_type": "code",
   "execution_count": 11,
   "id": "b35a7fc1",
   "metadata": {},
   "outputs": [
    {
     "name": "stdout",
     "output_type": "stream",
     "text": [
      "(26707, 37)\n"
     ]
    },
    {
     "data": {
      "text/html": [
       "<div>\n",
       "<style scoped>\n",
       "    .dataframe tbody tr th:only-of-type {\n",
       "        vertical-align: middle;\n",
       "    }\n",
       "\n",
       "    .dataframe tbody tr th {\n",
       "        vertical-align: top;\n",
       "    }\n",
       "\n",
       "    .dataframe thead th {\n",
       "        text-align: right;\n",
       "    }\n",
       "</style>\n",
       "<table border=\"1\" class=\"dataframe\">\n",
       "  <thead>\n",
       "    <tr style=\"text-align: right;\">\n",
       "      <th></th>\n",
       "      <th>h1n1_concern</th>\n",
       "      <th>h1n1_knowledge</th>\n",
       "      <th>behavioral_antiviral_meds</th>\n",
       "      <th>behavioral_avoidance</th>\n",
       "      <th>behavioral_face_mask</th>\n",
       "      <th>behavioral_wash_hands</th>\n",
       "      <th>behavioral_large_gatherings</th>\n",
       "      <th>behavioral_outside_home</th>\n",
       "      <th>behavioral_touch_face</th>\n",
       "      <th>doctor_recc_h1n1</th>\n",
       "      <th>...</th>\n",
       "      <th>rent_or_own</th>\n",
       "      <th>employment_status</th>\n",
       "      <th>hhs_geo_region</th>\n",
       "      <th>census_msa</th>\n",
       "      <th>household_adults</th>\n",
       "      <th>household_children</th>\n",
       "      <th>employment_industry</th>\n",
       "      <th>employment_occupation</th>\n",
       "      <th>h1n1_vaccine</th>\n",
       "      <th>seasonal_vaccine</th>\n",
       "    </tr>\n",
       "    <tr>\n",
       "      <th>respondent_id</th>\n",
       "      <th></th>\n",
       "      <th></th>\n",
       "      <th></th>\n",
       "      <th></th>\n",
       "      <th></th>\n",
       "      <th></th>\n",
       "      <th></th>\n",
       "      <th></th>\n",
       "      <th></th>\n",
       "      <th></th>\n",
       "      <th></th>\n",
       "      <th></th>\n",
       "      <th></th>\n",
       "      <th></th>\n",
       "      <th></th>\n",
       "      <th></th>\n",
       "      <th></th>\n",
       "      <th></th>\n",
       "      <th></th>\n",
       "      <th></th>\n",
       "      <th></th>\n",
       "    </tr>\n",
       "  </thead>\n",
       "  <tbody>\n",
       "    <tr>\n",
       "      <th>0</th>\n",
       "      <td>1.0</td>\n",
       "      <td>0.0</td>\n",
       "      <td>0.0</td>\n",
       "      <td>0.0</td>\n",
       "      <td>0.0</td>\n",
       "      <td>0.0</td>\n",
       "      <td>0.0</td>\n",
       "      <td>1.0</td>\n",
       "      <td>1.0</td>\n",
       "      <td>0.0</td>\n",
       "      <td>...</td>\n",
       "      <td>Own</td>\n",
       "      <td>Not in Labor Force</td>\n",
       "      <td>oxchjgsf</td>\n",
       "      <td>Non-MSA</td>\n",
       "      <td>0.0</td>\n",
       "      <td>0.0</td>\n",
       "      <td>NaN</td>\n",
       "      <td>NaN</td>\n",
       "      <td>0</td>\n",
       "      <td>0</td>\n",
       "    </tr>\n",
       "    <tr>\n",
       "      <th>1</th>\n",
       "      <td>3.0</td>\n",
       "      <td>2.0</td>\n",
       "      <td>0.0</td>\n",
       "      <td>1.0</td>\n",
       "      <td>0.0</td>\n",
       "      <td>1.0</td>\n",
       "      <td>0.0</td>\n",
       "      <td>1.0</td>\n",
       "      <td>1.0</td>\n",
       "      <td>0.0</td>\n",
       "      <td>...</td>\n",
       "      <td>Rent</td>\n",
       "      <td>Employed</td>\n",
       "      <td>bhuqouqj</td>\n",
       "      <td>MSA, Not Principle  City</td>\n",
       "      <td>0.0</td>\n",
       "      <td>0.0</td>\n",
       "      <td>pxcmvdjn</td>\n",
       "      <td>xgwztkwe</td>\n",
       "      <td>0</td>\n",
       "      <td>1</td>\n",
       "    </tr>\n",
       "    <tr>\n",
       "      <th>2</th>\n",
       "      <td>1.0</td>\n",
       "      <td>1.0</td>\n",
       "      <td>0.0</td>\n",
       "      <td>1.0</td>\n",
       "      <td>0.0</td>\n",
       "      <td>0.0</td>\n",
       "      <td>0.0</td>\n",
       "      <td>0.0</td>\n",
       "      <td>0.0</td>\n",
       "      <td>NaN</td>\n",
       "      <td>...</td>\n",
       "      <td>Own</td>\n",
       "      <td>Employed</td>\n",
       "      <td>qufhixun</td>\n",
       "      <td>MSA, Not Principle  City</td>\n",
       "      <td>2.0</td>\n",
       "      <td>0.0</td>\n",
       "      <td>rucpziij</td>\n",
       "      <td>xtkaffoo</td>\n",
       "      <td>0</td>\n",
       "      <td>0</td>\n",
       "    </tr>\n",
       "    <tr>\n",
       "      <th>3</th>\n",
       "      <td>1.0</td>\n",
       "      <td>1.0</td>\n",
       "      <td>0.0</td>\n",
       "      <td>1.0</td>\n",
       "      <td>0.0</td>\n",
       "      <td>1.0</td>\n",
       "      <td>1.0</td>\n",
       "      <td>0.0</td>\n",
       "      <td>0.0</td>\n",
       "      <td>0.0</td>\n",
       "      <td>...</td>\n",
       "      <td>Rent</td>\n",
       "      <td>Not in Labor Force</td>\n",
       "      <td>lrircsnp</td>\n",
       "      <td>MSA, Principle City</td>\n",
       "      <td>0.0</td>\n",
       "      <td>0.0</td>\n",
       "      <td>NaN</td>\n",
       "      <td>NaN</td>\n",
       "      <td>0</td>\n",
       "      <td>1</td>\n",
       "    </tr>\n",
       "    <tr>\n",
       "      <th>4</th>\n",
       "      <td>2.0</td>\n",
       "      <td>1.0</td>\n",
       "      <td>0.0</td>\n",
       "      <td>1.0</td>\n",
       "      <td>0.0</td>\n",
       "      <td>1.0</td>\n",
       "      <td>1.0</td>\n",
       "      <td>0.0</td>\n",
       "      <td>1.0</td>\n",
       "      <td>0.0</td>\n",
       "      <td>...</td>\n",
       "      <td>Own</td>\n",
       "      <td>Employed</td>\n",
       "      <td>qufhixun</td>\n",
       "      <td>MSA, Not Principle  City</td>\n",
       "      <td>1.0</td>\n",
       "      <td>0.0</td>\n",
       "      <td>wxleyezf</td>\n",
       "      <td>emcorrxb</td>\n",
       "      <td>0</td>\n",
       "      <td>0</td>\n",
       "    </tr>\n",
       "  </tbody>\n",
       "</table>\n",
       "<p>5 rows × 37 columns</p>\n",
       "</div>"
      ],
      "text/plain": [
       "               h1n1_concern  h1n1_knowledge  behavioral_antiviral_meds  \\\n",
       "respondent_id                                                            \n",
       "0                       1.0             0.0                        0.0   \n",
       "1                       3.0             2.0                        0.0   \n",
       "2                       1.0             1.0                        0.0   \n",
       "3                       1.0             1.0                        0.0   \n",
       "4                       2.0             1.0                        0.0   \n",
       "\n",
       "               behavioral_avoidance  behavioral_face_mask  \\\n",
       "respondent_id                                               \n",
       "0                               0.0                   0.0   \n",
       "1                               1.0                   0.0   \n",
       "2                               1.0                   0.0   \n",
       "3                               1.0                   0.0   \n",
       "4                               1.0                   0.0   \n",
       "\n",
       "               behavioral_wash_hands  behavioral_large_gatherings  \\\n",
       "respondent_id                                                       \n",
       "0                                0.0                          0.0   \n",
       "1                                1.0                          0.0   \n",
       "2                                0.0                          0.0   \n",
       "3                                1.0                          1.0   \n",
       "4                                1.0                          1.0   \n",
       "\n",
       "               behavioral_outside_home  behavioral_touch_face  \\\n",
       "respondent_id                                                   \n",
       "0                                  1.0                    1.0   \n",
       "1                                  1.0                    1.0   \n",
       "2                                  0.0                    0.0   \n",
       "3                                  0.0                    0.0   \n",
       "4                                  0.0                    1.0   \n",
       "\n",
       "               doctor_recc_h1n1  ...  rent_or_own   employment_status  \\\n",
       "respondent_id                    ...                                    \n",
       "0                           0.0  ...          Own  Not in Labor Force   \n",
       "1                           0.0  ...         Rent            Employed   \n",
       "2                           NaN  ...          Own            Employed   \n",
       "3                           0.0  ...         Rent  Not in Labor Force   \n",
       "4                           0.0  ...          Own            Employed   \n",
       "\n",
       "               hhs_geo_region                census_msa  household_adults  \\\n",
       "respondent_id                                                               \n",
       "0                    oxchjgsf                   Non-MSA               0.0   \n",
       "1                    bhuqouqj  MSA, Not Principle  City               0.0   \n",
       "2                    qufhixun  MSA, Not Principle  City               2.0   \n",
       "3                    lrircsnp       MSA, Principle City               0.0   \n",
       "4                    qufhixun  MSA, Not Principle  City               1.0   \n",
       "\n",
       "               household_children  employment_industry  employment_occupation  \\\n",
       "respondent_id                                                                   \n",
       "0                             0.0                  NaN                    NaN   \n",
       "1                             0.0             pxcmvdjn               xgwztkwe   \n",
       "2                             0.0             rucpziij               xtkaffoo   \n",
       "3                             0.0                  NaN                    NaN   \n",
       "4                             0.0             wxleyezf               emcorrxb   \n",
       "\n",
       "               h1n1_vaccine  seasonal_vaccine  \n",
       "respondent_id                                  \n",
       "0                         0                 0  \n",
       "1                         0                 1  \n",
       "2                         0                 0  \n",
       "3                         0                 1  \n",
       "4                         0                 0  \n",
       "\n",
       "[5 rows x 37 columns]"
      ]
     },
     "execution_count": 11,
     "metadata": {},
     "output_type": "execute_result"
    }
   ],
   "source": [
    "joined_df = features_df.join(labels_df)\n",
    "print(joined_df.shape)\n",
    "joined_df.head()"
   ]
  },
  {
   "cell_type": "markdown",
   "id": "44bc9184",
   "metadata": {},
   "source": [
    "#### Prototyping a plot"
   ]
  },
  {
   "cell_type": "markdown",
   "id": "70361348",
   "metadata": {},
   "source": [
    "Let's explore how features are correlated with the target variables. We'll start by trying to visualize if there is simple bivariate correlation. If a feature is correlated with a target, we'd expect there to be different patterns of vaccination as you vary the values of the feature.\n",
    "\n",
    "We shall begin by picking one feature and one target and working our way up to a plot prototype, which shall then be applied to more features and both targets. We'll use h1n1_convern, the level of concern the person showed about the H1N1 flu and h1n1_vaccine as a target variable.\n",
    "\n",
    "Let's get the count of observations for each combination of those two variables."
   ]
  },
  {
   "cell_type": "code",
   "execution_count": 43,
   "id": "b20a5327",
   "metadata": {
    "scrolled": true
   },
   "outputs": [
    {
     "data": {
      "text/html": [
       "<div>\n",
       "<style scoped>\n",
       "    .dataframe tbody tr th:only-of-type {\n",
       "        vertical-align: middle;\n",
       "    }\n",
       "\n",
       "    .dataframe tbody tr th {\n",
       "        vertical-align: top;\n",
       "    }\n",
       "\n",
       "    .dataframe thead th {\n",
       "        text-align: right;\n",
       "    }\n",
       "</style>\n",
       "<table border=\"1\" class=\"dataframe\">\n",
       "  <thead>\n",
       "    <tr style=\"text-align: right;\">\n",
       "      <th>h1n1_vaccine</th>\n",
       "      <th>0</th>\n",
       "      <th>1</th>\n",
       "    </tr>\n",
       "    <tr>\n",
       "      <th>h1n1_concern</th>\n",
       "      <th></th>\n",
       "      <th></th>\n",
       "    </tr>\n",
       "  </thead>\n",
       "  <tbody>\n",
       "    <tr>\n",
       "      <th>0.0</th>\n",
       "      <td>2849</td>\n",
       "      <td>447</td>\n",
       "    </tr>\n",
       "    <tr>\n",
       "      <th>1.0</th>\n",
       "      <td>6756</td>\n",
       "      <td>1397</td>\n",
       "    </tr>\n",
       "    <tr>\n",
       "      <th>2.0</th>\n",
       "      <td>8102</td>\n",
       "      <td>2473</td>\n",
       "    </tr>\n",
       "    <tr>\n",
       "      <th>3.0</th>\n",
       "      <td>3250</td>\n",
       "      <td>1341</td>\n",
       "    </tr>\n",
       "  </tbody>\n",
       "</table>\n",
       "</div>"
      ],
      "text/plain": [
       "h1n1_vaccine     0     1\n",
       "h1n1_concern            \n",
       "0.0           2849   447\n",
       "1.0           6756  1397\n",
       "2.0           8102  2473\n",
       "3.0           3250  1341"
      ]
     },
     "execution_count": 43,
     "metadata": {},
     "output_type": "execute_result"
    }
   ],
   "source": [
    "counts = joined_df[['h1n1_concern', 'h1n1_vaccine']].groupby(['h1n1_concern', 'h1n1_vaccine']).size().unstack()\n",
    "\n",
    "counts"
   ]
  },
  {
   "cell_type": "markdown",
   "id": "81492750",
   "metadata": {},
   "source": [
    "Let's put these numbers into a bar chart."
   ]
  },
  {
   "cell_type": "code",
   "execution_count": 44,
   "id": "8b6f0682",
   "metadata": {},
   "outputs": [
    {
     "data": {
      "text/plain": [
       "<matplotlib.legend.Legend at 0x1be9b529110>"
      ]
     },
     "execution_count": 44,
     "metadata": {},
     "output_type": "execute_result"
    },
    {
     "data": {
      "image/png": "[encoded data removed]",
      "text/plain": [
       "<Figure size 640x480 with 1 Axes>"
      ]
     },
     "metadata": {},
     "output_type": "display_data"
    }
   ],
   "source": [
    "ax = counts.plot.barh()\n",
    "#ax.invert_yaxis()\n",
    "ax.legend(\n",
    "    loc = 'center right',\n",
    "    bbox_to_anchor = (1.3, 0.5),\n",
    "    title = 'h1n1_vaccine'\n",
    ")"
   ]
  },
  {
   "cell_type": "markdown",
   "id": "2a790075",
   "metadata": {},
   "source": [
    "This plot is not the best option to show how the vaccinated to non-vaccinated peple ratio changes according to concern level. \n",
    "\n",
    "Let's look at the rate of vaccination for each level of H1N1 concern. We shall begin by adding up the numbers on each row of the counts dataframe to find the total number of individuals with each concern level."
   ]
  },
  {
   "cell_type": "code",
   "execution_count": 45,
   "id": "d498c0a3",
   "metadata": {},
   "outputs": [
    {
     "data": {
      "text/plain": [
       "h1n1_concern\n",
       "0.0     3296\n",
       "1.0     8153\n",
       "2.0    10575\n",
       "3.0     4591\n",
       "dtype: int64"
      ]
     },
     "execution_count": 45,
     "metadata": {},
     "output_type": "execute_result"
    }
   ],
   "source": [
    "h1n1_concern_counts = counts.sum(axis='columns')\n",
    "h1n1_concern_counts"
   ]
  },
  {
   "cell_type": "markdown",
   "id": "e3622d2b",
   "metadata": {},
   "source": [
    "Dividing each value on the counts table by the total of each row, we find the fractions of individuals that were and were not vaccinated for each concern level."
   ]
  },
  {
   "cell_type": "code",
   "execution_count": 47,
   "id": "4c0e0081",
   "metadata": {},
   "outputs": [
    {
     "data": {
      "text/html": [
       "<div>\n",
       "<style scoped>\n",
       "    .dataframe tbody tr th:only-of-type {\n",
       "        vertical-align: middle;\n",
       "    }\n",
       "\n",
       "    .dataframe tbody tr th {\n",
       "        vertical-align: top;\n",
       "    }\n",
       "\n",
       "    .dataframe thead th {\n",
       "        text-align: right;\n",
       "    }\n",
       "</style>\n",
       "<table border=\"1\" class=\"dataframe\">\n",
       "  <thead>\n",
       "    <tr style=\"text-align: right;\">\n",
       "      <th>h1n1_vaccine</th>\n",
       "      <th>0</th>\n",
       "      <th>1</th>\n",
       "    </tr>\n",
       "    <tr>\n",
       "      <th>h1n1_concern</th>\n",
       "      <th></th>\n",
       "      <th></th>\n",
       "    </tr>\n",
       "  </thead>\n",
       "  <tbody>\n",
       "    <tr>\n",
       "      <th>0.0</th>\n",
       "      <td>0.864381</td>\n",
       "      <td>0.135619</td>\n",
       "    </tr>\n",
       "    <tr>\n",
       "      <th>1.0</th>\n",
       "      <td>0.828652</td>\n",
       "      <td>0.171348</td>\n",
       "    </tr>\n",
       "    <tr>\n",
       "      <th>2.0</th>\n",
       "      <td>0.766147</td>\n",
       "      <td>0.233853</td>\n",
       "    </tr>\n",
       "    <tr>\n",
       "      <th>3.0</th>\n",
       "      <td>0.707907</td>\n",
       "      <td>0.292093</td>\n",
       "    </tr>\n",
       "  </tbody>\n",
       "</table>\n",
       "</div>"
      ],
      "text/plain": [
       "h1n1_vaccine         0         1\n",
       "h1n1_concern                    \n",
       "0.0           0.864381  0.135619\n",
       "1.0           0.828652  0.171348\n",
       "2.0           0.766147  0.233853\n",
       "3.0           0.707907  0.292093"
      ]
     },
     "execution_count": 47,
     "metadata": {},
     "output_type": "execute_result"
    }
   ],
   "source": [
    "props = counts.divide(h1n1_concern_counts, axis='index')\n",
    "\n",
    "props"
   ]
  },
  {
   "cell_type": "markdown",
   "id": "c355b871",
   "metadata": {},
   "source": [
    "The table shows an increase in vaccination as the level of concern increases. Let's put this in a plot."
   ]
  },
  {
   "cell_type": "code",
   "execution_count": 48,
   "id": "d08195f0",
   "metadata": {},
   "outputs": [
    {
     "data": {
      "text/plain": [
       "<matplotlib.legend.Legend at 0x1be9d2ec3d0>"
      ]
     },
     "execution_count": 48,
     "metadata": {},
     "output_type": "execute_result"
    },
    {
     "data": {
      "image/png": "[encoded data removed]",
      "text/plain": [
       "<Figure size 640x480 with 1 Axes>"
      ]
     },
     "metadata": {},
     "output_type": "display_data"
    }
   ],
   "source": [
    "ax = props.plot.barh()\n",
    "ax.legend(\n",
    "    loc = 'center right',\n",
    "    bbox_to_anchor = (1.3, 0.5),\n",
    "    title = 'h1n1_vaccine'\n",
    ")"
   ]
  },
  {
   "cell_type": "markdown",
   "id": "879a5cf0",
   "metadata": {},
   "source": [
    "This plot allows a nice visualization of what is happening. As the concern level increases, so does the vaccination rate. This shows tha the concern level is a good variable to consider when predicting H1N1 vaccination probability. Since every pair of numbers adds up to 1, this is a good use case for a stacked bar chart."
   ]
  },
  {
   "cell_type": "code",
   "execution_count": 51,
   "id": "097982a8",
   "metadata": {},
   "outputs": [
    {
     "data": {
      "text/plain": [
       "<matplotlib.legend.Legend at 0x1be9d457e90>"
      ]
     },
     "execution_count": 51,
     "metadata": {},
     "output_type": "execute_result"
    },
    {
     "data": {
      "image/png": "[encoded data removed]",
      "text/plain": [
       "<Figure size 640x480 with 1 Axes>"
      ]
     },
     "metadata": {},
     "output_type": "display_data"
    }
   ],
   "source": [
    "ax = props.plot.barh(stacked=True)\n",
    "ax.legend(\n",
    "    loc = 'center right',\n",
    "    bbox_to_anchor = (1.3, 0.5),\n",
    "    title = 'h1n1_vaccine'\n",
    ")"
   ]
  },
  {
   "cell_type": "markdown",
   "id": "595965ed",
   "metadata": {},
   "source": [
    "#### Plotting more variables"
   ]
  },
  {
   "cell_type": "markdown",
   "id": "abdabf61",
   "metadata": {},
   "source": [
    "Let's factor this plotting code into a function, so we can use it on more variables."
   ]
  },
  {
   "cell_type": "code",
   "execution_count": 77,
   "id": "bda23f4c",
   "metadata": {},
   "outputs": [],
   "source": [
    "def vaccination_rate_plot(feature, target, data, ax):\n",
    "    \n",
    "    counts = data[[target, feature]].groupby([target, feature]).size().unstack()\n",
    "    counts\n",
    "    \n",
    "    props = counts.divide(counts.sum(axis='columns'), axis='index')\n",
    "    \n",
    "    props.plot.barh(stacked=True,ax=ax)\n",
    "    "
   ]
  },
  {
   "cell_type": "code",
   "execution_count": null,
   "id": "58f963da",
   "metadata": {},
   "outputs": [],
   "source": []
  },
  {
   "cell_type": "markdown",
   "id": "b1012238",
   "metadata": {},
   "source": [
    "We'll now loop through several columns and plot agains both h1n1_vaccine and seasonal_vaccine."
   ]
  },
  {
   "cell_type": "code",
   "execution_count": 78,
   "id": "cda0b448",
   "metadata": {},
   "outputs": [
    {
     "data": {
      "image/png": "[encoded data removed]",
      "text/plain": [
       "<Figure size 640x480 with 22 Axes>"
      ]
     },
     "metadata": {},
     "output_type": "display_data"
    }
   ],
   "source": [
    "cols_to_plot = [\n",
    "    'h1n1_concern',\n",
    "    'h1n1_knowledge',\n",
    "    'opinion_h1n1_vacc_effective',\n",
    "    'opinion_h1n1_risk',\n",
    "    'opinion_h1n1_sick_from_vacc',\n",
    "    'opinion_seas_vacc_effective',\n",
    "    'opinion_seas_risk',\n",
    "    'opinion_seas_sick_from_vacc',\n",
    "    'sex',\n",
    "    'age_group',\n",
    "    'race',\n",
    "]\n",
    "\n",
    "fig, ax = plt.subplots(nrows=len(cols_to_plot), ncols=2)"
   ]
  },
  {
   "cell_type": "code",
   "execution_count": 79,
   "id": "75078f0b",
   "metadata": {},
   "outputs": [
    {
     "data": {
      "text/plain": [
       "array([<Axes: >, <Axes: >], dtype=object)"
      ]
     },
     "execution_count": 79,
     "metadata": {},
     "output_type": "execute_result"
    }
   ],
   "source": [
    "ax[0]"
   ]
  },
  {
   "cell_type": "code",
   "execution_count": 80,
   "id": "3475110d",
   "metadata": {},
   "outputs": [],
   "source": [
    "for index, col in enumerate(cols_to_plot):\n",
    "    vaccination_rate_plot(col, 'h1n1_vaccine', joined_df, ax[index,0])\n",
    "    vaccination_rate_plot(col, 'seasonal_vaccine', joined_df, ax[index,1])"
   ]
  },
  {
   "cell_type": "code",
   "execution_count": null,
   "id": "c3f1a7cf",
   "metadata": {},
   "outputs": [],
   "source": []
  }
 ],
 "metadata": {
  "kernelspec": {
   "display_name": "Python 3 (ipykernel)",
   "language": "python",
   "name": "python3"
  },
  "language_info": {
   "codemirror_mode": {
    "name": "ipython",
    "version": 3
   },
   "file_extension": ".py",
   "mimetype": "text/x-python",
   "name": "python",
   "nbconvert_exporter": "python",
   "pygments_lexer": "ipython3",
   "version": "3.11.4"
  }
 },
 "nbformat": 4,
 "nbformat_minor": 5
}
