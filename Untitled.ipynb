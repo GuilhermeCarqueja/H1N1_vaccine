{
 "cells": [
  {
   "cell_type": "markdown",
   "id": "f7c43aad",
   "metadata": {},
   "source": [
    "# H1N1 training problem"
   ]
  },
  {
   "cell_type": "markdown",
   "id": "0ea86660",
   "metadata": {},
   "source": [
    "## Problem description\n",
    "\n",
    "The problem aims at predicting the probability of an american citizen being vaccinated to H1N1 given some data."
   ]
  },
  {
   "cell_type": "markdown",
   "id": "09048399",
   "metadata": {},
   "source": [
    "### Import relevant libraries"
   ]
  },
  {
   "cell_type": "code",
   "execution_count": 1,
   "id": "b8db60ac",
   "metadata": {},
   "outputs": [],
   "source": [
    "import pandas as pd\n",
    "import numpy as np\n",
    "import sklearn\n",
    "import matplotlib.pyplot as plt\n",
    "import seaborn as sns\n",
    "\n",
    "sns.set()"
   ]
  },
  {
   "cell_type": "markdown",
   "id": "546df7b3",
   "metadata": {},
   "source": [
    "### Import raw data"
   ]
  },
  {
   "cell_type": "code",
   "execution_count": 2,
   "id": "f2dccf14",
   "metadata": {},
   "outputs": [],
   "source": [
    "raw_training_set_features = pd.read_csv('training_set_features.csv')\n",
    "raw_trainig_set_labels = pd.read_csv('training_set_labels.csv')\n",
    "\n",
    "raw_test_set_features = pd.read_csv('test_set_features.csv')"
   ]
  },
  {
   "cell_type": "markdown",
   "id": "487d07b6",
   "metadata": {},
   "source": [
    "Before going on with the analysis, let's take a general look at the data."
   ]
  },
  {
   "cell_type": "code",
   "execution_count": 3,
   "id": "0f672e4e",
   "metadata": {},
   "outputs": [
    {
     "data": {
      "text/plain": [
       "(26707, 36)"
      ]
     },
     "execution_count": 3,
     "metadata": {},
     "output_type": "execute_result"
    }
   ],
   "source": [
    "raw_training_set_features.shape"
   ]
  },
  {
   "cell_type": "markdown",
   "id": "6b2a8ab6",
   "metadata": {},
   "source": [
    "This shows us we have a total of 26707 observations and respondants were asked 36 different questions.\n",
    "\n",
    "Let's take a look at how many null values there are at each column."
   ]
  },
  {
   "cell_type": "code",
   "execution_count": 5,
   "id": "b9ae4100",
   "metadata": {},
   "outputs": [
    {
     "data": {
      "text/plain": [
       "respondent_id                      0\n",
       "h1n1_concern                      92\n",
       "h1n1_knowledge                   116\n",
       "behavioral_antiviral_meds         71\n",
       "behavioral_avoidance             208\n",
       "behavioral_face_mask              19\n",
       "behavioral_wash_hands             42\n",
       "behavioral_large_gatherings       87\n",
       "behavioral_outside_home           82\n",
       "behavioral_touch_face            128\n",
       "doctor_recc_h1n1                2160\n",
       "doctor_recc_seasonal            2160\n",
       "chronic_med_condition            971\n",
       "child_under_6_months             820\n",
       "health_worker                    804\n",
       "health_insurance               12274\n",
       "opinion_h1n1_vacc_effective      391\n",
       "opinion_h1n1_risk                388\n",
       "opinion_h1n1_sick_from_vacc      395\n",
       "opinion_seas_vacc_effective      462\n",
       "opinion_seas_risk                514\n",
       "opinion_seas_sick_from_vacc      537\n",
       "age_group                          0\n",
       "education                       1407\n",
       "race                               0\n",
       "sex                                0\n",
       "income_poverty                  4423\n",
       "marital_status                  1408\n",
       "rent_or_own                     2042\n",
       "employment_status               1463\n",
       "hhs_geo_region                     0\n",
       "census_msa                         0\n",
       "household_adults                 249\n",
       "household_children               249\n",
       "employment_industry            13330\n",
       "employment_occupation          13470\n",
       "dtype: int64"
      ]
     },
     "execution_count": 5,
     "metadata": {},
     "output_type": "execute_result"
    }
   ],
   "source": [
    "raw_training_set_features.isnull().sum()"
   ]
  },
  {
   "cell_type": "markdown",
   "id": "5ff960e6",
   "metadata": {},
   "source": [
    "Given that we have a test set as well, we can look at the null values there to decide which variables to consider. Before that, let's take a look at the amount of features in the test set."
   ]
  },
  {
   "cell_type": "code",
   "execution_count": 7,
   "id": "2220fad8",
   "metadata": {},
   "outputs": [
    {
     "data": {
      "text/plain": [
       "(26708, 36)"
      ]
     },
     "execution_count": 7,
     "metadata": {},
     "output_type": "execute_result"
    }
   ],
   "source": [
    "raw_test_set_features.shape"
   ]
  },
  {
   "cell_type": "markdown",
   "id": "c865778f",
   "metadata": {},
   "source": [
    "One can see that the total set of respondants was split in half to form trainig and test sets."
   ]
  },
  {
   "cell_type": "code",
   "execution_count": 17,
   "id": "80e5306f",
   "metadata": {
    "scrolled": true
   },
   "outputs": [
    {
     "data": {
      "text/plain": [
       "respondent_id                      0\n",
       "h1n1_concern                      85\n",
       "h1n1_knowledge                   122\n",
       "behavioral_antiviral_meds         79\n",
       "behavioral_avoidance             213\n",
       "behavioral_face_mask              19\n",
       "behavioral_wash_hands             40\n",
       "behavioral_large_gatherings       72\n",
       "behavioral_outside_home           82\n",
       "behavioral_touch_face            128\n",
       "doctor_recc_h1n1                2160\n",
       "doctor_recc_seasonal            2160\n",
       "chronic_med_condition            932\n",
       "child_under_6_months             813\n",
       "health_worker                    789\n",
       "health_insurance               12228\n",
       "opinion_h1n1_vacc_effective      398\n",
       "opinion_h1n1_risk                380\n",
       "opinion_h1n1_sick_from_vacc      375\n",
       "opinion_seas_vacc_effective      452\n",
       "opinion_seas_risk                499\n",
       "opinion_seas_sick_from_vacc      521\n",
       "age_group                          0\n",
       "education                       1407\n",
       "race                               0\n",
       "sex                                0\n",
       "income_poverty                  4497\n",
       "marital_status                  1442\n",
       "rent_or_own                     2036\n",
       "employment_status               1471\n",
       "hhs_geo_region                     0\n",
       "census_msa                         0\n",
       "household_adults                 225\n",
       "household_children               225\n",
       "employment_industry            13275\n",
       "employment_occupation          13426\n",
       "dtype: int64"
      ]
     },
     "execution_count": 17,
     "metadata": {},
     "output_type": "execute_result"
    }
   ],
   "source": [
    "raw_test_set_features.isnull().sum()"
   ]
  },
  {
   "cell_type": "markdown",
   "id": "810f3b30",
   "metadata": {},
   "source": [
    "For an initial model development, we'll consider only the variables with no missing values in the test set."
   ]
  },
  {
   "cell_type": "markdown",
   "id": "43852371",
   "metadata": {},
   "source": [
    "## First model"
   ]
  },
  {
   "cell_type": "code",
   "execution_count": null,
   "id": "d84fdd81",
   "metadata": {},
   "outputs": [],
   "source": []
  }
 ],
 "metadata": {
  "kernelspec": {
   "display_name": "Python 3 (ipykernel)",
   "language": "python",
   "name": "python3"
  },
  "language_info": {
   "codemirror_mode": {
    "name": "ipython",
    "version": 3
   },
   "file_extension": ".py",
   "mimetype": "text/x-python",
   "name": "python",
   "nbconvert_exporter": "python",
   "pygments_lexer": "ipython3",
   "version": "3.10.9"
  }
 },
 "nbformat": 4,
 "nbformat_minor": 5
}
